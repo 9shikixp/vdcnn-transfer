{
 "cells": [
  {
   "cell_type": "code",
   "execution_count": null,
   "metadata": {
    "ExecuteTime": {
     "end_time": "2018-01-11T13:58:55.567845Z",
     "start_time": "2018-01-11T13:58:55.563963Z"
    }
   },
   "outputs": [],
   "source": [
    "import pickle"
   ]
  },
  {
   "cell_type": "code",
   "execution_count": null,
   "metadata": {
    "ExecuteTime": {
     "end_time": "2018-01-11T13:58:56.254665Z",
     "start_time": "2018-01-11T13:58:56.248292Z"
    }
   },
   "outputs": [],
   "source": [
    "with open('./dict/char2id.pickle', mode='rb') as f:\n",
    "    char2id = pickle.load(f)"
   ]
  },
  {
   "cell_type": "code",
   "execution_count": null,
   "metadata": {
    "ExecuteTime": {
     "end_time": "2018-01-11T13:58:56.800803Z",
     "start_time": "2018-01-11T13:58:56.796668Z"
    }
   },
   "outputs": [],
   "source": [
    "vocab = char2id.keys()"
   ]
  },
  {
   "cell_type": "code",
   "execution_count": null,
   "metadata": {
    "ExecuteTime": {
     "end_time": "2018-01-11T13:58:57.124826Z",
     "start_time": "2018-01-11T13:58:57.118936Z"
    }
   },
   "outputs": [],
   "source": [
    "fo = open('./data/livedoor-id.txt','w')"
   ]
  },
  {
   "cell_type": "code",
   "execution_count": null,
   "metadata": {
    "ExecuteTime": {
     "end_time": "2018-01-11T13:59:00.663558Z",
     "start_time": "2018-01-11T13:58:57.606802Z"
    }
   },
   "outputs": [],
   "source": [
    "fi = open('./data/labeled-livedoor.txt')\n",
    "line = fi.readline()\n",
    "while line:\n",
    "    label, sentence = line.split(' ')\n",
    "    sentence = sentence.replace('\\n', '')\n",
    "    fo.write(str(label) + ' ')\n",
    "    for c in sentence:\n",
    "        if c in vocab:\n",
    "            fo.write(str(char2id[c]) + ' ')\n",
    "        else:\n",
    "            fo.write('3016 ')\n",
    "    fo.write('\\n')\n",
    "    line = fi.readline()\n",
    "fi.close()\n",
    "fo.close()"
   ]
  }
 ],
 "metadata": {
  "kernelspec": {
   "display_name": "Python 3",
   "language": "python",
   "name": "python3"
  },
  "language_info": {
   "codemirror_mode": {
    "name": "ipython",
    "version": 3
   },
   "file_extension": ".py",
   "mimetype": "text/x-python",
   "name": "python",
   "nbconvert_exporter": "python",
   "pygments_lexer": "ipython3",
   "version": "3.5.2"
  }
 },
 "nbformat": 4,
 "nbformat_minor": 2
}
