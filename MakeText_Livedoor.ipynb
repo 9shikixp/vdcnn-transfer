{
 "cells": [
  {
   "cell_type": "code",
   "execution_count": null,
   "metadata": {
    "ExecuteTime": {
     "end_time": "2018-01-11T13:57:30.999532Z",
     "start_time": "2018-01-11T13:57:30.994067Z"
    }
   },
   "outputs": [],
   "source": [
    "import os"
   ]
  },
  {
   "cell_type": "code",
   "execution_count": null,
   "metadata": {
    "ExecuteTime": {
     "end_time": "2018-01-11T13:57:23.208957Z",
     "start_time": "2018-01-11T13:57:23.206430Z"
    }
   },
   "outputs": [],
   "source": [
    "fo = open('./data/labeled-livedoor.txt','w')"
   ]
  },
  {
   "cell_type": "code",
   "execution_count": null,
   "metadata": {
    "ExecuteTime": {
     "end_time": "2018-01-07T14:36:45.140626Z",
     "start_time": "2018-01-07T14:36:45.138474Z"
    }
   },
   "outputs": [],
   "source": [
    "dirs = os.listdir('./text/')"
   ]
  },
  {
   "cell_type": "code",
   "execution_count": null,
   "metadata": {
    "ExecuteTime": {
     "end_time": "2018-01-07T14:36:45.505445Z",
     "start_time": "2018-01-07T14:36:45.503569Z"
    }
   },
   "outputs": [],
   "source": [
    "dirs.remove('CHANGES.txt')\n",
    "dirs.remove('README.txt')"
   ]
  },
  {
   "cell_type": "code",
   "execution_count": null,
   "metadata": {
    "ExecuteTime": {
     "end_time": "2018-01-07T14:36:51.857799Z",
     "start_time": "2018-01-07T14:36:46.399419Z"
    }
   },
   "outputs": [],
   "source": [
    "for label, dir_name in enumerate(dirs):\n",
    "    file_names = os.listdir('./text/' + dir_name)\n",
    "    for file_name in file_names:\n",
    "        fi = open('./text/{0}/{1}'.format(dir_name, file_name))\n",
    "        url = fi.readline()\n",
    "        time = fi.readline()\n",
    "        line = fi.readline()\n",
    "        sentence = ''\n",
    "        while line:\n",
    "            line = line.replace('　', '')\n",
    "            line = line.replace(' ', '')\n",
    "            line = line.replace('\\n', '')\n",
    "            sentence += line\n",
    "            if len(sentence) > 1024:\n",
    "                sentence = sentence[0:1024]\n",
    "                break\n",
    "            line = fi.readline()\n",
    "        fo.write(str(label)+' ')\n",
    "        fo.write(sentence)\n",
    "        fo.write('\\n')\n",
    "        fi.close()\n",
    "fo.close()"
   ]
  }
 ],
 "metadata": {
  "kernelspec": {
   "display_name": "Python 3",
   "language": "python",
   "name": "python3"
  },
  "language_info": {
   "codemirror_mode": {
    "name": "ipython",
    "version": 3
   },
   "file_extension": ".py",
   "mimetype": "text/x-python",
   "name": "python",
   "nbconvert_exporter": "python",
   "pygments_lexer": "ipython3",
   "version": "3.5.2"
  }
 },
 "nbformat": 4,
 "nbformat_minor": 2
}
